{
 "cells": [
  {
   "cell_type": "markdown",
   "id": "af83e12b",
   "metadata": {},
   "source": [
    "# VolSense — Model Training\n",
    "\n",
    "In this notebook, you’ll:\n",
    "\n",
    "1. Load the processed volatility dataset generated in Notebook 1  \n",
    "2. Train baseline statistical models (GARCH, EGARCH)  \n",
    "3. Train a deep learning global volatility forecaster (LSTM-based)  \n",
    "4. Compare validation metrics and export trained models for inference"
   ]
  },
  {
   "cell_type": "code",
   "execution_count": null,
   "id": "1816942b",
   "metadata": {},
   "outputs": [],
   "source": [
    "# Imports\n",
    "\n",
    "import pandas as pd\n",
    "import numpy as np\n",
    "import torch\n",
    "from pathlib import Path\n",
    "\n",
    "from volsense_core.models.garch_methods import ARCHForecaster, forecast_arch, fit_arch\n",
    "from volsense_core.models.lstm_forecaster import BaseLSTM\n",
    "from volsense_core.models.global_vol_forecaster import (\n",
    "    GlobalVolForecaster, TrainConfig, train_global_model\n",
    ")\n",
    "from volsense_core.utils.metrics import evaluate_forecast"
   ]
  },
  {
   "cell_type": "markdown",
   "id": "b3a67e87",
   "metadata": {},
   "source": [
    "## 📥 Step 1: Load processed dataset\n",
    "We’ll use the dataset saved in `1_data_preparation.ipynb` and inspect it."
   ]
  },
  {
   "cell_type": "code",
   "execution_count": null,
   "id": "c827dad3",
   "metadata": {},
   "outputs": [],
   "source": [
    "data_path = Path(\"../data/processed/global_volatility_dataset.csv\")\n",
    "multi_df = pd.read_csv(data_path, parse_dates=[\"date\"])\n",
    "print(f\"✅ Loaded {len(multi_df):,} rows\")\n",
    "multi_df.head()"
   ]
  },
  {
   "cell_type": "markdown",
   "id": "e95a89a5",
   "metadata": {},
   "source": [
    "## Step 2: Quick sanity checks\n",
    "Ensure no missing key columns and reasonable volatility range."
   ]
  },
  {
   "cell_type": "code",
   "execution_count": null,
   "id": "e2b92a10",
   "metadata": {},
   "outputs": [],
   "source": [
    "print(multi_df.isna().sum())\n",
    "print(multi_df.describe()[[\"return\",\"realized_vol\"]])\n",
    "multi_df[\"ticker\"].value_counts().head()"
   ]
  },
  {
   "cell_type": "markdown",
   "id": "2acb3951",
   "metadata": {},
   "source": [
    "## Step 3: Baseline — GARCH Model\n",
    "We’ll train a simple GARCH(1, 1) for one ticker (AAPL) to establish a baseline."
   ]
  },
  {
   "cell_type": "code",
   "execution_count": null,
   "id": "80fbdf18",
   "metadata": {},
   "outputs": [],
   "source": [
    "ticker = \"AAPL\"\n",
    "returns = multi_df.loc[multi_df[\"ticker\"] == ticker, \"return\"].dropna()\n",
    "\n",
    "arch_model = fit_arch(returns)\n",
    "pred_vol = forecast_arch(arch_model, horizon=1)\n",
    "\n",
    "print(f\"Predicted 1-day volatility for {ticker}: {pred_vol:.4f}\")"
   ]
  }
 ],
 "metadata": {
  "kernelspec": {
   "display_name": "venv",
   "language": "python",
   "name": "python3"
  },
  "language_info": {
   "codemirror_mode": {
    "name": "ipython",
    "version": 3
   },
   "file_extension": ".py",
   "mimetype": "text/x-python",
   "name": "python",
   "nbconvert_exporter": "python",
   "pygments_lexer": "ipython3",
   "version": "3.11.9"
  }
 },
 "nbformat": 4,
 "nbformat_minor": 5
}

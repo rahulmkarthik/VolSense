{
 "cells": [
  {
   "cell_type": "code",
   "execution_count": null,
   "id": "d9bb75c1",
   "metadata": {},
   "outputs": [],
   "source": [
    "from volsense_inference.forecast_engine import Forecast\n",
    "\n",
    "# Initialize once\n",
    "fcast = Forecast(model_version=\"v6a\", checkpoints_dir=\"models\")\n",
    "\n",
    "# Run forecasts\n",
    "preds = fcast.run([\"AAPL\", \"MSFT\"])\n",
    "print(preds)\n",
    "\n",
    "\n",
    "fcast.plot(\"AAPL\")"
   ]
  }
 ],
 "metadata": {
  "kernelspec": {
   "display_name": "venv",
   "language": "python",
   "name": "python3"
  },
  "language_info": {
   "codemirror_mode": {
    "name": "ipython",
    "version": 3
   },
   "file_extension": ".py",
   "mimetype": "text/x-python",
   "name": "python",
   "nbconvert_exporter": "python",
   "pygments_lexer": "ipython3",
   "version": "3.11.9"
  }
 },
 "nbformat": 4,
 "nbformat_minor": 5
}

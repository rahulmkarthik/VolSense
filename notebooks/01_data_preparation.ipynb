{
 "cells": [
  {
   "cell_type": "markdown",
   "id": "b6fe5f8f",
   "metadata": {},
   "source": [
    "# 📈 VolSense — Data Preparation & Feature Engineering\n",
    "\n",
    "This notebook demonstrates the **complete preprocessing pipeline** for VolSense:\n",
    "\n",
    "- Fetching OHLCV data using `yfinance`\n",
    "- Building multi-ticker datasets using `volsense_core.data_fetching.multi_fetch`\n",
    "- Generating realized volatility and engineered features via `feature_engineering.py`\n",
    "\n",
    "You’ll end up with a clean, feature-rich dataset ready for model training or inference."
   ]
  },
  {
   "cell_type": "code",
   "execution_count": 10,
   "id": "f8ac00cf",
   "metadata": {},
   "outputs": [],
   "source": [
    "# Imports\n",
    "\n",
    "import pandas as pd\n",
    "import numpy as np\n",
    "import matplotlib.pyplot as plt\n",
    "import os\n",
    "\n",
    "from volsense_core.data_fetching.fetch_yf import fetch_ohlcv, compute_returns_vol\n",
    "from volsense_core.data_fetching.multi_fetch import fetch_multi_ohlcv, build_multi_dataset\n",
    "from volsense_core.data_fetching.feature_engineering import build_features"
   ]
  },
  {
   "cell_type": "markdown",
   "id": "3c420c8d",
   "metadata": {},
   "source": [
    "## ⚙️ Step 1: Define parameters\n",
    "We’ll specify:\n",
    "- Ticker universe\n",
    "- Date range\n",
    "- Rolling window length for realized volatility calculation"
   ]
  },
  {
   "cell_type": "code",
   "execution_count": 4,
   "id": "0d377ae2",
   "metadata": {},
   "outputs": [],
   "source": [
    "TICKERS = [\"AAPL\", \"MSFT\", \"SPY\", \"NVDA\", \"META\"]\n",
    "START_DATE = \"2015-01-01\"\n",
    "LOOKBACK = 15  # rolling days for realized volatility (15 is the default for pretrained models)"
   ]
  },
  {
   "cell_type": "markdown",
   "id": "4ac61b1b",
   "metadata": {},
   "source": [
    "## 🧩 Step 2: Fetch data for a single ticker\n",
    "\n",
    "The `fetch_ohlcv()` utility wraps around `yfinance` and ensures standardized columns.  \n",
    "Let’s start with **AAPL** as an example."
   ]
  },
  {
   "cell_type": "code",
   "execution_count": 3,
   "id": "d52e926a",
   "metadata": {},
   "outputs": [
    {
     "name": "stdout",
     "output_type": "stream",
     "text": [
      "        date       open       high        low      close  adj_close     volume\n",
      "0 2015-01-02  27.847500  27.860001  26.837500  27.332500  24.261044  212818400\n",
      "1 2015-01-05  27.072500  27.162500  26.352501  26.562500  23.577576  257142000\n",
      "2 2015-01-06  26.635000  26.857500  26.157499  26.565001  23.579792  263188400\n",
      "3 2015-01-07  26.799999  27.049999  26.674999  26.937500  23.910437  160423600\n",
      "4 2015-01-08  27.307501  28.037500  27.174999  27.972500  24.829123  237458000\n"
     ]
    }
   ],
   "source": [
    "df_aapl = fetch_ohlcv(\"AAPL\", start=START_DATE)\n",
    "print(df_aapl.head())"
   ]
  },
  {
   "cell_type": "markdown",
   "id": "94785f26",
   "metadata": {},
   "source": [
    "## 📊 Step 3: Compute returns and realized volatility\n",
    "\n",
    "`compute_returns_vol()` adds:\n",
    "- daily returns (`return`)\n",
    "- realized volatility (`realized_vol`)  \n",
    "based on a rolling window (default 21 days, or the `lookback` you specify)."
   ]
  },
  {
   "cell_type": "code",
   "execution_count": 4,
   "id": "f0af77f8",
   "metadata": {},
   "outputs": [
    {
     "data": {
      "text/html": [
       "<div>\n",
       "<style scoped>\n",
       "    .dataframe tbody tr th:only-of-type {\n",
       "        vertical-align: middle;\n",
       "    }\n",
       "\n",
       "    .dataframe tbody tr th {\n",
       "        vertical-align: top;\n",
       "    }\n",
       "\n",
       "    .dataframe thead th {\n",
       "        text-align: right;\n",
       "    }\n",
       "</style>\n",
       "<table border=\"1\" class=\"dataframe\">\n",
       "  <thead>\n",
       "    <tr style=\"text-align: right;\">\n",
       "      <th></th>\n",
       "      <th>date</th>\n",
       "      <th>return</th>\n",
       "      <th>realized_vol</th>\n",
       "      <th>ticker</th>\n",
       "    </tr>\n",
       "  </thead>\n",
       "  <tbody>\n",
       "    <tr>\n",
       "      <th>15</th>\n",
       "      <td>2015-01-26</td>\n",
       "      <td>0.001063</td>\n",
       "      <td>0.308933</td>\n",
       "      <td>AAPL</td>\n",
       "    </tr>\n",
       "    <tr>\n",
       "      <th>16</th>\n",
       "      <td>2015-01-27</td>\n",
       "      <td>-0.035013</td>\n",
       "      <td>0.322127</td>\n",
       "      <td>AAPL</td>\n",
       "    </tr>\n",
       "    <tr>\n",
       "      <th>17</th>\n",
       "      <td>2015-01-28</td>\n",
       "      <td>0.056533</td>\n",
       "      <td>0.391716</td>\n",
       "      <td>AAPL</td>\n",
       "    </tr>\n",
       "    <tr>\n",
       "      <th>18</th>\n",
       "      <td>2015-01-29</td>\n",
       "      <td>0.031134</td>\n",
       "      <td>0.404301</td>\n",
       "      <td>AAPL</td>\n",
       "    </tr>\n",
       "    <tr>\n",
       "      <th>19</th>\n",
       "      <td>2015-01-30</td>\n",
       "      <td>-0.014634</td>\n",
       "      <td>0.387965</td>\n",
       "      <td>AAPL</td>\n",
       "    </tr>\n",
       "    <tr>\n",
       "      <th>20</th>\n",
       "      <td>2015-02-02</td>\n",
       "      <td>0.012546</td>\n",
       "      <td>0.389600</td>\n",
       "      <td>AAPL</td>\n",
       "    </tr>\n",
       "    <tr>\n",
       "      <th>21</th>\n",
       "      <td>2015-02-03</td>\n",
       "      <td>0.000169</td>\n",
       "      <td>0.369386</td>\n",
       "      <td>AAPL</td>\n",
       "    </tr>\n",
       "    <tr>\n",
       "      <th>22</th>\n",
       "      <td>2015-02-04</td>\n",
       "      <td>0.007670</td>\n",
       "      <td>0.369236</td>\n",
       "      <td>AAPL</td>\n",
       "    </tr>\n",
       "    <tr>\n",
       "      <th>23</th>\n",
       "      <td>2015-02-05</td>\n",
       "      <td>0.007137</td>\n",
       "      <td>0.366886</td>\n",
       "      <td>AAPL</td>\n",
       "    </tr>\n",
       "    <tr>\n",
       "      <th>24</th>\n",
       "      <td>2015-02-06</td>\n",
       "      <td>-0.008421</td>\n",
       "      <td>0.343334</td>\n",
       "      <td>AAPL</td>\n",
       "    </tr>\n",
       "  </tbody>\n",
       "</table>\n",
       "</div>"
      ],
      "text/plain": [
       "         date    return  realized_vol ticker\n",
       "15 2015-01-26  0.001063      0.308933   AAPL\n",
       "16 2015-01-27 -0.035013      0.322127   AAPL\n",
       "17 2015-01-28  0.056533      0.391716   AAPL\n",
       "18 2015-01-29  0.031134      0.404301   AAPL\n",
       "19 2015-01-30 -0.014634      0.387965   AAPL\n",
       "20 2015-02-02  0.012546      0.389600   AAPL\n",
       "21 2015-02-03  0.000169      0.369386   AAPL\n",
       "22 2015-02-04  0.007670      0.369236   AAPL\n",
       "23 2015-02-05  0.007137      0.366886   AAPL\n",
       "24 2015-02-06 -0.008421      0.343334   AAPL"
      ]
     },
     "execution_count": 4,
     "metadata": {},
     "output_type": "execute_result"
    }
   ],
   "source": [
    "df_aapl = compute_returns_vol(df_aapl, window=LOOKBACK, ticker=\"AAPL\")\n",
    "df_aapl.head(10)"
   ]
  },
  {
   "cell_type": "markdown",
   "id": "ef5815b7",
   "metadata": {},
   "source": [
    "## 📈 Step 4: Visualize realized volatility\n",
    "This quick check ensures the rolling volatility looks reasonable."
   ]
  },
  {
   "cell_type": "code",
   "execution_count": 5,
   "id": "ff714514",
   "metadata": {},
   "outputs": [
    {
     "data": {
      "image/png": "[encoded data removed]",
      "text/plain": [
       "<Figure size 1000x400 with 1 Axes>"
      ]
     },
     "metadata": {},
     "output_type": "display_data"
    }
   ],
   "source": [
    "plt.figure(figsize=(10,4))\n",
    "plt.plot(df_aapl[\"date\"], df_aapl[\"realized_vol\"], label=\"Realized Volatility\")\n",
    "plt.title(\"AAPL — Realized Volatility (21-day rolling window)\")\n",
    "plt.legend()\n",
    "plt.grid(alpha=0.3)\n",
    "plt.show()"
   ]
  },
  {
   "cell_type": "markdown",
   "id": "4d221925",
   "metadata": {},
   "source": [
    "## 🌍 Step 5: Fetch data for multiple tickers\n",
    "\n",
    "We’ll now pull OHLCV data for the entire universe at once  \n",
    "using `fetch_multi_ohlcv()`. This function returns a dictionary of DataFrames."
   ]
  },
  {
   "cell_type": "code",
   "execution_count": 5,
   "id": "919db6d0",
   "metadata": {},
   "outputs": [
    {
     "name": "stderr",
     "output_type": "stream",
     "text": [
      "[*********************100%***********************]  1 of 1 completed\n",
      "[*********************100%***********************]  1 of 1 completed\n",
      "[*********************100%***********************]  1 of 1 completed\n",
      "[*********************100%***********************]  1 of 1 completed\n",
      "[*********************100%***********************]  1 of 1 completed"
     ]
    },
    {
     "name": "stdout",
     "output_type": "stream",
     "text": [
      "AAPL: 2715 rows\n",
      "MSFT: 2715 rows\n",
      "SPY: 2715 rows\n",
      "NVDA: 2715 rows\n",
      "META: 2715 rows\n"
     ]
    },
    {
     "name": "stderr",
     "output_type": "stream",
     "text": [
      "\n"
     ]
    }
   ],
   "source": [
    "multi_dict = fetch_multi_ohlcv(TICKERS, start=START_DATE)\n",
    "for tkr, df in multi_dict.items():\n",
    "    print(f\"{tkr}: {len(df)} rows\")"
   ]
  },
  {
   "cell_type": "markdown",
   "id": "adb30fe8",
   "metadata": {},
   "source": [
    "## 🧱 Step 6: Build combined multi-ticker dataset\n",
    "\n",
    "`build_multi_dataset()` merges all ticker DataFrames into a **single standardized table**  \n",
    "with columns: `['date', 'return', 'realized_vol', 'ticker']`"
   ]
  },
  {
   "cell_type": "code",
   "execution_count": 6,
   "id": "adf83b4b",
   "metadata": {},
   "outputs": [
    {
     "data": {
      "text/html": [
       "<div>\n",
       "<style scoped>\n",
       "    .dataframe tbody tr th:only-of-type {\n",
       "        vertical-align: middle;\n",
       "    }\n",
       "\n",
       "    .dataframe tbody tr th {\n",
       "        vertical-align: top;\n",
       "    }\n",
       "\n",
       "    .dataframe thead th {\n",
       "        text-align: right;\n",
       "    }\n",
       "</style>\n",
       "<table border=\"1\" class=\"dataframe\">\n",
       "  <thead>\n",
       "    <tr style=\"text-align: right;\">\n",
       "      <th></th>\n",
       "      <th>date</th>\n",
       "      <th>return</th>\n",
       "      <th>realized_vol</th>\n",
       "      <th>ticker</th>\n",
       "    </tr>\n",
       "  </thead>\n",
       "  <tbody>\n",
       "    <tr>\n",
       "      <th>0</th>\n",
       "      <td>2015-01-26</td>\n",
       "      <td>0.001062</td>\n",
       "      <td>0.308933</td>\n",
       "      <td>AAPL</td>\n",
       "    </tr>\n",
       "    <tr>\n",
       "      <th>1</th>\n",
       "      <td>2015-01-27</td>\n",
       "      <td>-0.035013</td>\n",
       "      <td>0.322125</td>\n",
       "      <td>AAPL</td>\n",
       "    </tr>\n",
       "    <tr>\n",
       "      <th>2</th>\n",
       "      <td>2015-01-28</td>\n",
       "      <td>0.056533</td>\n",
       "      <td>0.391714</td>\n",
       "      <td>AAPL</td>\n",
       "    </tr>\n",
       "    <tr>\n",
       "      <th>3</th>\n",
       "      <td>2015-01-29</td>\n",
       "      <td>0.031133</td>\n",
       "      <td>0.404299</td>\n",
       "      <td>AAPL</td>\n",
       "    </tr>\n",
       "    <tr>\n",
       "      <th>4</th>\n",
       "      <td>2015-01-30</td>\n",
       "      <td>-0.014634</td>\n",
       "      <td>0.387962</td>\n",
       "      <td>AAPL</td>\n",
       "    </tr>\n",
       "  </tbody>\n",
       "</table>\n",
       "</div>"
      ],
      "text/plain": [
       "        date    return  realized_vol ticker\n",
       "0 2015-01-26  0.001062      0.308933   AAPL\n",
       "1 2015-01-27 -0.035013      0.322125   AAPL\n",
       "2 2015-01-28  0.056533      0.391714   AAPL\n",
       "3 2015-01-29  0.031133      0.404299   AAPL\n",
       "4 2015-01-30 -0.014634      0.387962   AAPL"
      ]
     },
     "execution_count": 6,
     "metadata": {},
     "output_type": "execute_result"
    }
   ],
   "source": [
    "multi_df = build_multi_dataset(multi_dict, lookback=LOOKBACK)\n",
    "multi_df.head()"
   ]
  },
  {
   "cell_type": "markdown",
   "id": "18343fb4",
   "metadata": {},
   "source": [
    "## 🧠 Step 7: Generate advanced features\n",
    "\n",
    "`generate_features()` adds all derived metrics used by the models, such as:\n",
    "- Rolling volatilities (`vol_3d`, `vol_10d`, `vol_ratio`, etc.)\n",
    "- Market stress and skewness features\n",
    "- Calendar encodings (`month_sin`, `month_cos`, `day_of_week`)\n",
    "- EWMA and volatility of volatility measures\n",
    "\n",
    "`realized_log_vol` is usually set as the target column, to assist with better generalization for model training."
   ]
  },
  {
   "cell_type": "code",
   "execution_count": 7,
   "id": "cc52b658",
   "metadata": {},
   "outputs": [
    {
     "data": {
      "text/html": [
       "<div>\n",
       "<style scoped>\n",
       "    .dataframe tbody tr th:only-of-type {\n",
       "        vertical-align: middle;\n",
       "    }\n",
       "\n",
       "    .dataframe tbody tr th {\n",
       "        vertical-align: top;\n",
       "    }\n",
       "\n",
       "    .dataframe thead th {\n",
       "        text-align: right;\n",
       "    }\n",
       "</style>\n",
       "<table border=\"1\" class=\"dataframe\">\n",
       "  <thead>\n",
       "    <tr style=\"text-align: right;\">\n",
       "      <th></th>\n",
       "      <th>return</th>\n",
       "      <th>realized_vol_log</th>\n",
       "      <th>ticker</th>\n",
       "      <th>realized_vol</th>\n",
       "      <th>date</th>\n",
       "      <th>vol_vol</th>\n",
       "      <th>vol_ratio</th>\n",
       "      <th>skew_5d</th>\n",
       "      <th>market_stress_1d_lag</th>\n",
       "      <th>abs_return</th>\n",
       "      <th>month_sin</th>\n",
       "      <th>vol_3d</th>\n",
       "      <th>ret_sq</th>\n",
       "      <th>day_of_week</th>\n",
       "      <th>ewma_vol_10d</th>\n",
       "      <th>market_stress</th>\n",
       "      <th>vol_chg</th>\n",
       "      <th>vol_10d</th>\n",
       "      <th>month_cos</th>\n",
       "    </tr>\n",
       "  </thead>\n",
       "  <tbody>\n",
       "    <tr>\n",
       "      <th>0</th>\n",
       "      <td>0.001062</td>\n",
       "      <td>-1.174629</td>\n",
       "      <td>AAPL</td>\n",
       "      <td>0.308933</td>\n",
       "      <td>2015-01-26</td>\n",
       "      <td>NaN</td>\n",
       "      <td>0.999997</td>\n",
       "      <td>NaN</td>\n",
       "      <td>NaN</td>\n",
       "      <td>0.001062</td>\n",
       "      <td>0.5</td>\n",
       "      <td>0.308933</td>\n",
       "      <td>0.000001</td>\n",
       "      <td>0.000000</td>\n",
       "      <td>0.308933</td>\n",
       "      <td>0.003202</td>\n",
       "      <td>0.000000</td>\n",
       "      <td>0.308933</td>\n",
       "      <td>0.866025</td>\n",
       "    </tr>\n",
       "    <tr>\n",
       "      <th>1</th>\n",
       "      <td>-0.035013</td>\n",
       "      <td>-1.132811</td>\n",
       "      <td>AAPL</td>\n",
       "      <td>0.322125</td>\n",
       "      <td>2015-01-27</td>\n",
       "      <td>0.009329</td>\n",
       "      <td>0.999997</td>\n",
       "      <td>NaN</td>\n",
       "      <td>0.003202</td>\n",
       "      <td>0.035013</td>\n",
       "      <td>0.5</td>\n",
       "      <td>0.315529</td>\n",
       "      <td>0.001226</td>\n",
       "      <td>0.166667</td>\n",
       "      <td>0.311331</td>\n",
       "      <td>0.031067</td>\n",
       "      <td>0.000000</td>\n",
       "      <td>0.315529</td>\n",
       "      <td>0.866025</td>\n",
       "    </tr>\n",
       "    <tr>\n",
       "      <th>2</th>\n",
       "      <td>0.056533</td>\n",
       "      <td>-0.937220</td>\n",
       "      <td>AAPL</td>\n",
       "      <td>0.391714</td>\n",
       "      <td>2015-01-28</td>\n",
       "      <td>0.044478</td>\n",
       "      <td>0.999997</td>\n",
       "      <td>0.252503</td>\n",
       "      <td>0.031067</td>\n",
       "      <td>0.056533</td>\n",
       "      <td>0.5</td>\n",
       "      <td>0.340924</td>\n",
       "      <td>0.003196</td>\n",
       "      <td>0.333333</td>\n",
       "      <td>0.325946</td>\n",
       "      <td>0.034822</td>\n",
       "      <td>0.000000</td>\n",
       "      <td>0.340924</td>\n",
       "      <td>0.866025</td>\n",
       "    </tr>\n",
       "    <tr>\n",
       "      <th>3</th>\n",
       "      <td>0.031133</td>\n",
       "      <td>-0.905599</td>\n",
       "      <td>AAPL</td>\n",
       "      <td>0.404299</td>\n",
       "      <td>2015-01-29</td>\n",
       "      <td>0.048197</td>\n",
       "      <td>1.044690</td>\n",
       "      <td>-0.187517</td>\n",
       "      <td>0.034822</td>\n",
       "      <td>0.031133</td>\n",
       "      <td>0.5</td>\n",
       "      <td>0.372713</td>\n",
       "      <td>0.000969</td>\n",
       "      <td>0.500000</td>\n",
       "      <td>0.340192</td>\n",
       "      <td>0.008002</td>\n",
       "      <td>0.015945</td>\n",
       "      <td>0.356768</td>\n",
       "      <td>0.866025</td>\n",
       "    </tr>\n",
       "    <tr>\n",
       "      <th>4</th>\n",
       "      <td>-0.014634</td>\n",
       "      <td>-0.946845</td>\n",
       "      <td>AAPL</td>\n",
       "      <td>0.387962</td>\n",
       "      <td>2015-01-30</td>\n",
       "      <td>0.044009</td>\n",
       "      <td>1.087190</td>\n",
       "      <td>0.220791</td>\n",
       "      <td>0.008002</td>\n",
       "      <td>0.014634</td>\n",
       "      <td>0.5</td>\n",
       "      <td>0.394659</td>\n",
       "      <td>0.000214</td>\n",
       "      <td>0.666667</td>\n",
       "      <td>0.348878</td>\n",
       "      <td>0.010713</td>\n",
       "      <td>0.031652</td>\n",
       "      <td>0.363007</td>\n",
       "      <td>0.866025</td>\n",
       "    </tr>\n",
       "  </tbody>\n",
       "</table>\n",
       "</div>"
      ],
      "text/plain": [
       "     return  realized_vol_log ticker  realized_vol       date   vol_vol  \\\n",
       "0  0.001062         -1.174629   AAPL      0.308933 2015-01-26       NaN   \n",
       "1 -0.035013         -1.132811   AAPL      0.322125 2015-01-27  0.009329   \n",
       "2  0.056533         -0.937220   AAPL      0.391714 2015-01-28  0.044478   \n",
       "3  0.031133         -0.905599   AAPL      0.404299 2015-01-29  0.048197   \n",
       "4 -0.014634         -0.946845   AAPL      0.387962 2015-01-30  0.044009   \n",
       "\n",
       "   vol_ratio   skew_5d  market_stress_1d_lag  abs_return  month_sin    vol_3d  \\\n",
       "0   0.999997       NaN                   NaN    0.001062        0.5  0.308933   \n",
       "1   0.999997       NaN              0.003202    0.035013        0.5  0.315529   \n",
       "2   0.999997  0.252503              0.031067    0.056533        0.5  0.340924   \n",
       "3   1.044690 -0.187517              0.034822    0.031133        0.5  0.372713   \n",
       "4   1.087190  0.220791              0.008002    0.014634        0.5  0.394659   \n",
       "\n",
       "     ret_sq  day_of_week  ewma_vol_10d  market_stress   vol_chg   vol_10d  \\\n",
       "0  0.000001     0.000000      0.308933       0.003202  0.000000  0.308933   \n",
       "1  0.001226     0.166667      0.311331       0.031067  0.000000  0.315529   \n",
       "2  0.003196     0.333333      0.325946       0.034822  0.000000  0.340924   \n",
       "3  0.000969     0.500000      0.340192       0.008002  0.015945  0.356768   \n",
       "4  0.000214     0.666667      0.348878       0.010713  0.031652  0.363007   \n",
       "\n",
       "   month_cos  \n",
       "0   0.866025  \n",
       "1   0.866025  \n",
       "2   0.866025  \n",
       "3   0.866025  \n",
       "4   0.866025  "
      ]
     },
     "execution_count": 7,
     "metadata": {},
     "output_type": "execute_result"
    }
   ],
   "source": [
    "multi_df = build_features(multi_df)\n",
    "multi_df.head()"
   ]
  },
  {
   "cell_type": "markdown",
   "id": "16397a52",
   "metadata": {},
   "source": [
    "## 🧾 Step 8: Inspect available features\n",
    "Let’s verify all the generated columns now present in the dataset."
   ]
  },
  {
   "cell_type": "code",
   "execution_count": 8,
   "id": "470323c1",
   "metadata": {},
   "outputs": [
    {
     "name": "stdout",
     "output_type": "stream",
     "text": [
      "Feature columns:\n",
      "['return', 'realized_vol_log', 'realized_vol', 'vol_vol', 'vol_ratio', 'skew_5d', 'market_stress_1d_lag', 'abs_return', 'month_sin', 'vol_3d', 'ret_sq', 'day_of_week', 'ewma_vol_10d', 'market_stress', 'vol_chg', 'vol_10d', 'month_cos']\n"
     ]
    }
   ],
   "source": [
    "print(\"Feature columns:\")\n",
    "print([col for col in multi_df.columns if col not in [\"ticker\", \"date\"]])"
   ]
  },
  {
   "cell_type": "markdown",
   "id": "80245708",
   "metadata": {},
   "source": [
    "## 🔍 Step 9: Visualize a feature — e.g. 3-day vs 10-day volatility\n",
    "\n",
    "This helps confirm feature dynamics and sanity-check the rolling window logic."
   ]
  },
  {
   "cell_type": "code",
   "execution_count": 9,
   "id": "161909af",
   "metadata": {},
   "outputs": [
    {
     "data": {
      "image/png": "[encoded data removed]",
      "text/plain": [
       "<Figure size 1000x400 with 1 Axes>"
      ]
     },
     "metadata": {},
     "output_type": "display_data"
    }
   ],
   "source": [
    "sample = multi_df[multi_df[\"ticker\"] == \"AAPL\"].tail(200)\n",
    "plt.figure(figsize=(10,4))\n",
    "plt.plot(sample[\"date\"], sample[\"vol_3d\"], label=\"3-Day Vol\")\n",
    "plt.plot(sample[\"date\"], sample[\"vol_10d\"], label=\"10-Day Vol\")\n",
    "plt.title(\"AAPL — Short-term vs Long-term Volatility\")\n",
    "plt.legend()\n",
    "plt.grid(alpha=0.3)\n",
    "plt.show()"
   ]
  },
  {
   "cell_type": "markdown",
   "id": "180db708",
   "metadata": {},
   "source": [
    "## 💾 Step 10: Save processed dataset\n",
    "\n",
    "We’ll store the processed DataFrame in `data/processed/`  \n",
    "so it can be reused in model training and inference notebooks."
   ]
  },
  {
   "cell_type": "code",
   "execution_count": null,
   "id": "a104a505",
   "metadata": {},
   "outputs": [],
   "source": [
    "os.makedirs(\"../data/processed\", exist_ok=True)\n",
    "multi_df.to_csv(\"../data/processed/global_volatility_dataset.csv\", index=False)\n",
    "print(\"✅ Saved processed dataset to ../data/processed/global_volatility_dataset.csv\")"
   ]
  },
  {
   "cell_type": "markdown",
   "id": "b63fab46",
   "metadata": {},
   "source": [
    "# ✅ Summary\n",
    "\n",
    "We have successfully:\n",
    "\n",
    "- Pulled OHLCV data for multiple tickers  \n",
    "- Computed returns and realized volatility  \n",
    "- Generated an extensive set of volatility-related features  \n",
    "- Saved a clean, consolidated dataset for downstream modeling\n",
    "\n",
    "Next → [2_model_training.ipynb](./2_model_training.ipynb)"
   ]
  }
 ],
 "metadata": {
  "kernelspec": {
   "display_name": "venv",
   "language": "python",
   "name": "python3"
  },
  "language_info": {
   "codemirror_mode": {
    "name": "ipython",
    "version": 3
   },
   "file_extension": ".py",
   "mimetype": "text/x-python",
   "name": "python",
   "nbconvert_exporter": "python",
   "pygments_lexer": "ipython3",
   "version": "3.11.9"
  }
 },
 "nbformat": 4,
 "nbformat_minor": 5
}
